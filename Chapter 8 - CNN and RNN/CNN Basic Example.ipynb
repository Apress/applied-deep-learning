{
 "cells": [
  {
   "cell_type": "markdown",
   "metadata": {},
   "source": [
    "# Applied Deep Learning - a use case based approach to understand deep neural networks\n",
    "\n",
    "### Umberto Michelucci\n",
    "\n",
    "Buy the book: https://www.apress.com/us/book/9781484237892"
   ]
  },
  {
   "cell_type": "markdown",
   "metadata": {},
   "source": [
    "(C) Umberto Michelucci 2018-2019 - umberto.michelucci@gmail.com \n",
    "\n",
    "github repository: https://github.com/Apress/applied-deep-learning"
   ]
  },
  {
   "cell_type": "markdown",
   "metadata": {},
   "source": [
    "# An example of a convolutional Neural Network"
   ]
  },
  {
   "cell_type": "code",
   "execution_count": 1,
   "metadata": {},
   "outputs": [],
   "source": [
    "import tensorflow as tf\n",
    "import numpy as np\n",
    "import matplotlib.pyplot as plt\n",
    "%matplotlib inline\n",
    "import time\n",
    "import pandas as pd"
   ]
  },
  {
   "cell_type": "markdown",
   "metadata": {},
   "source": [
    "# Data Zalando"
   ]
  },
  {
   "cell_type": "markdown",
   "metadata": {},
   "source": [
    "## Get the datafiles\n",
    "\n",
    "To avoid to make the repository unecessarily big, you can get the two needed files\n",
    "\n",
    "- fashion-mnist_train.csv\n",
    "- fashion-mnist_test.csv\n",
    "\n",
    "zipped in the Week 5 folder. Copy them in the same folder where this notebook is and unzip them before running the following cell."
   ]
  },
  {
   "cell_type": "markdown",
   "metadata": {},
   "source": [
    "## Loading and preparing the files"
   ]
  },
  {
   "cell_type": "code",
   "execution_count": 3,
   "metadata": {},
   "outputs": [],
   "source": [
    "data_train = pd.read_csv('fashion-mnist_train.csv', header = 0)\n",
    "data_test = pd.read_csv('fashion-mnist_test.csv', header = 0)"
   ]
  },
  {
   "cell_type": "code",
   "execution_count": 4,
   "metadata": {},
   "outputs": [],
   "source": [
    "labels = data_train['label'].values.reshape(1, 60000)\n",
    "\n",
    "labels_ = np.zeros((60000, 10))\n",
    "labels_[np.arange(60000), labels] = 1\n",
    "train = data_train.drop('label', axis=1)\n",
    "\n",
    "labels_dev = data_test['label'].values.reshape(1, 10000)\n",
    "\n",
    "labels_dev_ = np.zeros((10000, 10))\n",
    "labels_dev_[np.arange(10000), labels_dev] = 1\n",
    "dev = data_test.drop('label', axis=1)"
   ]
  },
  {
   "cell_type": "code",
   "execution_count": 5,
   "metadata": {},
   "outputs": [
    {
     "name": "stdout",
     "output_type": "stream",
     "text": [
      "(60000, 10)\n",
      "(10000, 10)\n"
     ]
    }
   ],
   "source": [
    "print(labels_.shape)\n",
    "print(labels_dev_.shape)"
   ]
  },
  {
   "cell_type": "code",
   "execution_count": 6,
   "metadata": {},
   "outputs": [],
   "source": [
    "train = np.array(train / 255.0)\n",
    "dev = np.array(dev / 255.0)\n",
    "labels_ = np.array(labels_)\n",
    "labels_dev_ = np.array(labels_dev_)"
   ]
  },
  {
   "cell_type": "markdown",
   "metadata": {},
   "source": [
    "# Build the CNN"
   ]
  },
  {
   "cell_type": "code",
   "execution_count": 7,
   "metadata": {},
   "outputs": [],
   "source": [
    "# Placeholder variable for the input images\n",
    "x = tf.placeholder(tf.float32, shape=[None, 28*28], name='X')\n",
    "# Reshape it into [num_images, img_height, img_width, num_channels]\n",
    "x_image = tf.reshape(x, [-1, 28, 28, 1])\n",
    "\n",
    "# Placeholder variable for the true labels associated with the images\n",
    "y_true = tf.placeholder(tf.float32, shape=[None, 10], name='y_true')\n",
    "y_true_cls = tf.argmax(y_true, axis=1)"
   ]
  },
  {
   "cell_type": "code",
   "execution_count": 8,
   "metadata": {},
   "outputs": [],
   "source": [
    "def new_conv_layer(input, num_input_channels, filter_size, num_filters):\n",
    "    \n",
    "        # Shape of the filter-weights for the convolution\n",
    "    shape = [filter_size, filter_size, num_input_channels, num_filters]\n",
    "\n",
    "        # Create new weights (filters) with the given shape\n",
    "    weights = tf.Variable(tf.truncated_normal(shape, stddev=0.05))\n",
    "\n",
    "        # Create new biases, one for each filter\n",
    "    biases = tf.Variable(tf.constant(0.05, shape=[num_filters]))\n",
    "\n",
    "        # TensorFlow operation for convolution\n",
    "    layer = tf.nn.conv2d(input=input, filter=weights, strides=[1, 1, 1, 1], padding='SAME')\n",
    "\n",
    "        # Add the biases to the results of the convolution.\n",
    "    layer += biases\n",
    "        \n",
    "    return layer, weights"
   ]
  },
  {
   "cell_type": "code",
   "execution_count": 9,
   "metadata": {},
   "outputs": [],
   "source": [
    "def new_pool_layer(input):\n",
    "    \n",
    "        # TensorFlow operation for convolution\n",
    "    layer = tf.nn.max_pool(value=input, ksize=[1, 2, 2, 1], strides=[1, 2, 2, 1], padding='SAME')\n",
    "        \n",
    "    return layer"
   ]
  },
  {
   "cell_type": "code",
   "execution_count": 10,
   "metadata": {},
   "outputs": [],
   "source": [
    "def new_relu_layer(input):\n",
    "    \n",
    "    #with tf.variable_scope(name) as scope:\n",
    "        # TensorFlow operation for convolution\n",
    "    layer = tf.nn.relu(input)\n",
    "        \n",
    "    return layer"
   ]
  },
  {
   "cell_type": "code",
   "execution_count": 11,
   "metadata": {},
   "outputs": [],
   "source": [
    "def new_fc_layer(input, num_inputs, num_outputs):\n",
    "         # Create new weights and biases.\n",
    "    weights = tf.Variable(tf.truncated_normal([num_inputs, num_outputs], stddev=0.05))\n",
    "    biases = tf.Variable(tf.constant(0.05, shape=[num_outputs]))\n",
    "        \n",
    "        # Multiply the input and weights, and then add the bias-values.\n",
    "    layer = tf.matmul(input, weights) + biases\n",
    "        \n",
    "    return layer"
   ]
  },
  {
   "cell_type": "code",
   "execution_count": 12,
   "metadata": {},
   "outputs": [],
   "source": [
    "# Convolutional Layer 1\n",
    "layer_conv1, weights_conv1 = new_conv_layer(input=x_image, num_input_channels=1, filter_size=5, num_filters=6)\n",
    "\n",
    "# Pooling Layer 1\n",
    "layer_pool1 = new_pool_layer(layer_conv1)\n",
    "\n",
    "# RelU layer 1\n",
    "layer_relu1 = new_relu_layer(layer_pool1)\n",
    "\n",
    "# Convolutional Layer 2\n",
    "layer_conv2, weights_conv2 = new_conv_layer(input=layer_relu1, num_input_channels=6, filter_size=5, num_filters=16)\n",
    "\n",
    "# Pooling Layer 2\n",
    "layer_pool2 = new_pool_layer(layer_conv2)\n",
    "\n",
    "# RelU layer 2\n",
    "layer_relu2 = new_relu_layer(layer_pool2)\n",
    "\n",
    "# Flatten Layer\n",
    "num_features = layer_relu2.get_shape()[1:4].num_elements()\n",
    "layer_flat = tf.reshape(layer_relu2, [-1, num_features])\n",
    "\n",
    "# Fully-Connected Layer 1\n",
    "layer_fc1 = new_fc_layer(layer_flat, num_inputs=num_features, num_outputs=128)\n",
    "\n",
    "# RelU layer 3\n",
    "layer_relu3 = new_relu_layer(layer_fc1)\n",
    "\n",
    "# Fully-Connected Layer 2\n",
    "layer_fc2 = new_fc_layer(input=layer_relu3, num_inputs=128, num_outputs=10)"
   ]
  },
  {
   "cell_type": "code",
   "execution_count": 13,
   "metadata": {},
   "outputs": [],
   "source": [
    "# Use Softmax function to normalize the output\n",
    "y_pred = tf.nn.softmax(layer_fc2)\n",
    "y_pred_cls = tf.argmax(y_pred, axis=1)"
   ]
  },
  {
   "cell_type": "code",
   "execution_count": 14,
   "metadata": {},
   "outputs": [
    {
     "name": "stdout",
     "output_type": "stream",
     "text": [
      "WARNING:tensorflow:From <ipython-input-14-70ede0306690>:2: softmax_cross_entropy_with_logits (from tensorflow.python.ops.nn_ops) is deprecated and will be removed in a future version.\n",
      "Instructions for updating:\n",
      "\n",
      "Future major versions of TensorFlow will allow gradients to flow\n",
      "into the labels input on backprop by default.\n",
      "\n",
      "See `tf.nn.softmax_cross_entropy_with_logits_v2`.\n",
      "\n"
     ]
    }
   ],
   "source": [
    "# Use Cross entropy cost function\n",
    "cross_entropy = tf.nn.softmax_cross_entropy_with_logits(logits=layer_fc2, labels=y_true)\n",
    "cost = tf.reduce_mean(cross_entropy)"
   ]
  },
  {
   "cell_type": "code",
   "execution_count": 15,
   "metadata": {},
   "outputs": [],
   "source": [
    "# Use Adam Optimizer\n",
    "optimizer = tf.train.AdamOptimizer(learning_rate=1e-3).minimize(cost)"
   ]
  },
  {
   "cell_type": "code",
   "execution_count": 16,
   "metadata": {},
   "outputs": [],
   "source": [
    "# Accuracy\n",
    "correct_prediction = tf.equal(y_pred_cls, y_true_cls)\n",
    "accuracy = tf.reduce_mean(tf.cast(correct_prediction, tf.float32))"
   ]
  },
  {
   "cell_type": "code",
   "execution_count": 18,
   "metadata": {},
   "outputs": [],
   "source": [
    "num_epochs = 10\n",
    "batch_size = 100"
   ]
  },
  {
   "cell_type": "markdown",
   "metadata": {},
   "source": [
    "## Training the CNN with the Zalando dataset"
   ]
  },
  {
   "cell_type": "code",
   "execution_count": 19,
   "metadata": {
    "scrolled": false
   },
   "outputs": [
    {
     "name": "stdout",
     "output_type": "stream",
     "text": [
      "--> 0\n",
      "--> 5000\n",
      "--> 10000\n",
      "--> 15000\n",
      "--> 20000\n",
      "--> 25000\n",
      "--> 30000\n",
      "--> 35000\n",
      "--> 40000\n",
      "--> 45000\n",
      "--> 50000\n",
      "--> 55000\n",
      "Epoch 1 completed : Time usage 58 seconds\n",
      "\tAccuracy:\n",
      "\t- Training Accuracy:\t0.7606666664034128\n",
      "\t- Validation Accuracy:\t0.8374000191688538\n",
      "--> 0\n",
      "--> 5000\n",
      "--> 10000\n",
      "--> 15000\n",
      "--> 20000\n",
      "--> 25000\n",
      "--> 30000\n",
      "--> 35000\n",
      "--> 40000\n",
      "--> 45000\n",
      "--> 50000\n",
      "--> 55000\n",
      "Epoch 2 completed : Time usage 62 seconds\n",
      "\tAccuracy:\n",
      "\t- Training Accuracy:\t0.852583332558473\n",
      "\t- Validation Accuracy:\t0.8628000020980835\n",
      "--> 0\n",
      "--> 5000\n",
      "--> 10000\n",
      "--> 15000\n",
      "--> 20000\n",
      "--> 25000\n",
      "--> 30000\n",
      "--> 35000\n",
      "--> 40000\n",
      "--> 45000\n",
      "--> 50000\n",
      "--> 55000\n",
      "Epoch 3 completed : Time usage 65 seconds\n",
      "\tAccuracy:\n",
      "\t- Training Accuracy:\t0.8724500008424123\n",
      "\t- Validation Accuracy:\t0.8770999908447266\n",
      "--> 0\n",
      "--> 5000\n",
      "--> 10000\n",
      "--> 15000\n",
      "--> 20000\n",
      "--> 25000\n",
      "--> 30000\n",
      "--> 35000\n",
      "--> 40000\n",
      "--> 45000\n",
      "--> 50000\n",
      "--> 55000\n",
      "Epoch 4 completed : Time usage 65 seconds\n",
      "\tAccuracy:\n",
      "\t- Training Accuracy:\t0.8864500005046526\n",
      "\t- Validation Accuracy:\t0.8817999958992004\n",
      "--> 0\n",
      "--> 5000\n",
      "--> 10000\n",
      "--> 15000\n",
      "--> 20000\n",
      "--> 25000\n",
      "--> 30000\n",
      "--> 35000\n",
      "--> 40000\n",
      "--> 45000\n",
      "--> 50000\n",
      "--> 55000\n",
      "Epoch 5 completed : Time usage 65 seconds\n",
      "\tAccuracy:\n",
      "\t- Training Accuracy:\t0.895916668176651\n",
      "\t- Validation Accuracy:\t0.8877000212669373\n",
      "--> 0\n",
      "--> 5000\n",
      "--> 10000\n",
      "--> 15000\n",
      "--> 20000\n",
      "--> 25000\n",
      "--> 30000\n",
      "--> 35000\n",
      "--> 40000\n",
      "--> 45000\n",
      "--> 50000\n",
      "--> 55000\n",
      "Epoch 6 completed : Time usage 62 seconds\n",
      "\tAccuracy:\n",
      "\t- Training Accuracy:\t0.9028000009059906\n",
      "\t- Validation Accuracy:\t0.8921999931335449\n",
      "--> 0\n",
      "--> 5000\n",
      "--> 10000\n",
      "--> 15000\n",
      "--> 20000\n",
      "--> 25000\n",
      "--> 30000\n",
      "--> 35000\n",
      "--> 40000\n",
      "--> 45000\n",
      "--> 50000\n",
      "--> 55000\n",
      "Epoch 7 completed : Time usage 63 seconds\n",
      "\tAccuracy:\n",
      "\t- Training Accuracy:\t0.9082833348711332\n",
      "\t- Validation Accuracy:\t0.8949000239372253\n",
      "--> 0\n",
      "--> 5000\n",
      "--> 10000\n",
      "--> 15000\n",
      "--> 20000\n",
      "--> 25000\n",
      "--> 30000\n",
      "--> 35000\n",
      "--> 40000\n",
      "--> 45000\n",
      "--> 50000\n",
      "--> 55000\n",
      "Epoch 8 completed : Time usage 75 seconds\n",
      "\tAccuracy:\n",
      "\t- Training Accuracy:\t0.9130833361546199\n",
      "\t- Validation Accuracy:\t0.8949999809265137\n",
      "--> 0\n",
      "--> 5000\n",
      "--> 10000\n",
      "--> 15000\n",
      "--> 20000\n",
      "--> 25000\n",
      "--> 30000\n",
      "--> 35000\n",
      "--> 40000\n",
      "--> 45000\n",
      "--> 50000\n",
      "--> 55000\n",
      "Epoch 9 completed : Time usage 68 seconds\n",
      "\tAccuracy:\n",
      "\t- Training Accuracy:\t0.9179666682084402\n",
      "\t- Validation Accuracy:\t0.8970999717712402\n",
      "--> 0\n",
      "--> 5000\n",
      "--> 10000\n",
      "--> 15000\n",
      "--> 20000\n",
      "--> 25000\n",
      "--> 30000\n",
      "--> 35000\n",
      "--> 40000\n",
      "--> 45000\n",
      "--> 50000\n",
      "--> 55000\n",
      "Epoch 10 completed : Time usage 64 seconds\n",
      "\tAccuracy:\n",
      "\t- Training Accuracy:\t0.9223666685819626\n",
      "\t- Validation Accuracy:\t0.8999000191688538\n"
     ]
    }
   ],
   "source": [
    "with tf.Session() as sess:\n",
    "    # Initialize all variables\n",
    "    sess.run(tf.global_variables_initializer())\n",
    "    \n",
    "    # Add the model graph to TensorBoard\n",
    "    #writer.add_graph(sess.graph)\n",
    "    \n",
    "    # Loop over number of epochs\n",
    "    for epoch in range(num_epochs):\n",
    "        \n",
    "        start_time = time.time()\n",
    "        train_accuracy = 0\n",
    "        \n",
    "        #for batch in range(0, int(len(labels_)/batch_size)):\n",
    "            \n",
    "        for i in range(0, train.shape[0], batch_size):\n",
    "            if (i%5000 == 0):\n",
    "                print('-->',i)\n",
    "            x_batch = train[i:i + batch_size,:]\n",
    "            y_true_batch = labels_[i:i + batch_size,:]\n",
    "            \n",
    "            # Put the batch into a dict with the proper names for placeholder variables\n",
    "            feed_dict_train = {x: x_batch, y_true: y_true_batch}\n",
    "            \n",
    "            # Run the optimizer using this batch of training data.\n",
    "            sess.run(optimizer, feed_dict=feed_dict_train)\n",
    "            \n",
    "            # Calculate the accuracy on the batch of training data\n",
    "            train_accuracy += sess.run(accuracy, feed_dict=feed_dict_train)\n",
    "            \n",
    "            # Generate summary with the current batch of data and write to file\n",
    "            #summ = sess.run(merged_summary, feed_dict=feed_dict_train)\n",
    "            #writer.add_summary(summ, epoch*int(len(labels_)/batch_size) + batch)\n",
    "        \n",
    "          \n",
    "        train_accuracy /= int(len(labels_)/batch_size)\n",
    "        \n",
    "        # Generate summary and validate the model on the entire validation set\n",
    "        vali_accuracy = sess.run(accuracy, feed_dict={x:dev, y_true:labels_dev_})\n",
    "        #writer1.add_summary(summ, epoch)\n",
    "        \n",
    "\n",
    "        end_time = time.time()\n",
    "        \n",
    "        print(\"Epoch \"+str(epoch+1)+\" completed : Time usage \"+str(int(end_time-start_time))+\" seconds\")\n",
    "        print(\"\\tAccuracy:\")\n",
    "        print (\"\\t- Training Accuracy:\\t{}\".format(train_accuracy))\n",
    "        print (\"\\t- Validation Accuracy:\\t{}\".format(vali_accuracy))"
   ]
  },
  {
   "cell_type": "code",
   "execution_count": null,
   "metadata": {},
   "outputs": [],
   "source": []
  }
 ],
 "metadata": {
  "kernelspec": {
   "display_name": "Python 3",
   "language": "python",
   "name": "python3"
  },
  "language_info": {
   "codemirror_mode": {
    "name": "ipython",
    "version": 3
   },
   "file_extension": ".py",
   "mimetype": "text/x-python",
   "name": "python",
   "nbconvert_exporter": "python",
   "pygments_lexer": "ipython3",
   "version": "3.6.3"
  }
 },
 "nbformat": 4,
 "nbformat_minor": 2
}
